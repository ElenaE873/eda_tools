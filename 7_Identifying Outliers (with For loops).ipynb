{
 "cells": [
  {
   "cell_type": "markdown",
   "metadata": {},
   "source": [
    "#### Box Plots"
   ]
  },
  {
   "cell_type": "code",
   "execution_count": null,
   "metadata": {},
   "outputs": [],
   "source": [
    "columns = dataset.columns\n",
    "columns # to see the list of columns as an pandas objectb"
   ]
  },
  {
   "cell_type": "code",
   "execution_count": null,
   "metadata": {},
   "outputs": [],
   "source": [
    "columns\n",
    "\n",
    "for i in range(1,len(columns)): #normally start at 0, but use 1 if the column is not numerical\n",
    "    #print(column(i))\n",
    "    fig = plt.figure(figsize=(10,5))\n",
    "    sns.boxplot(x = df[columns[i]])\n",
    "    \n",
    "    #this give you the boxplots of each of the columns"
   ]
  },
  {
   "cell_type": "markdown",
   "metadata": {},
   "source": [
    "Then you can use specific values to identify the specific rows related to the outliers records by doing \"df[df['coumn']==value] #this is the type of subsetting to look at the outliers"
   ]
  },
  {
   "cell_type": "markdown",
   "metadata": {},
   "source": [
    "#### Scatter Plots"
   ]
  },
  {
   "cell_type": "code",
   "execution_count": null,
   "metadata": {},
   "outputs": [],
   "source": [
    "df.plot.scatter(x=correlatedval_1, y=correlatedval_2)"
   ]
  },
  {
   "cell_type": "code",
   "execution_count": null,
   "metadata": {},
   "outputs": [],
   "source": [
    "#you can also do relationship subsetting for categorical valuess\n",
    "\n",
    "subset = df.[df['column name'] !='type of value in column']"
   ]
  }
 ],
 "metadata": {
  "kernelspec": {
   "display_name": "Python 3",
   "language": "python",
   "name": "python3"
  },
  "language_info": {
   "codemirror_mode": {
    "name": "ipython",
    "version": 3
   },
   "file_extension": ".py",
   "mimetype": "text/x-python",
   "name": "python",
   "nbconvert_exporter": "python",
   "pygments_lexer": "ipython3",
   "version": "3.8.5"
  }
 },
 "nbformat": 4,
 "nbformat_minor": 4
}
