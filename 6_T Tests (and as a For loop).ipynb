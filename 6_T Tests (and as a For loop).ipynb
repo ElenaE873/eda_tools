{
 "cells": [
  {
   "cell_type": "code",
   "execution_count": null,
   "metadata": {},
   "outputs": [],
   "source": [
    "import scipy.stats as stats"
   ]
  },
  {
   "cell_type": "code",
   "execution_count": null,
   "metadata": {},
   "outputs": [],
   "source": [
    "a = df['column1']\n",
    "b = df_2['column1']\n",
    "stat.ttest_ind(a,b)"
   ]
  },
  {
   "cell_type": "markdown",
   "metadata": {},
   "source": [
    "Run for multiple columns"
   ]
  },
  {
   "cell_type": "code",
   "execution_count": null,
   "metadata": {},
   "outputs": [],
   "source": [
    "for i in range(1, len(columns)):\n",
    "    a = df[column[i]]\n",
    "    b = df_2[column[i]]\n",
    "    print(column(i))\n",
    "    statistic, pvalue = stats.ttestt_ind(a,b)\n",
    "    print(\"Statistic:%S p-value:; %S\", %(statistic, p value))\n",
    "    if pvalue <0.5:\n",
    "        print(\"Significcant\")\n",
    "    else:\n",
    "        print(\"Not Significant\")"
   ]
  }
 ],
 "metadata": {
  "kernelspec": {
   "display_name": "Python 3",
   "language": "python",
   "name": "python3"
  },
  "language_info": {
   "codemirror_mode": {
    "name": "ipython",
    "version": 3
   },
   "file_extension": ".py",
   "mimetype": "text/x-python",
   "name": "python",
   "nbconvert_exporter": "python",
   "pygments_lexer": "ipython3",
   "version": "3.8.5"
  }
 },
 "nbformat": 4,
 "nbformat_minor": 4
}
